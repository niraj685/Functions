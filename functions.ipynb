{
  "nbformat": 4,
  "nbformat_minor": 0,
  "metadata": {
    "colab": {
      "provenance": []
    },
    "kernelspec": {
      "name": "python3",
      "display_name": "Python 3"
    },
    "language_info": {
      "name": "python"
    }
  },
  "cells": [
    {
      "cell_type": "markdown",
      "source": [
        "# Function Assignment\n",
        "\n",
        "1. What is the difference between a function and a method in Python?\n",
        "\n",
        "  - function\n",
        "      - A function is block of code that performs a specific task.it is defined using def keyword.it can exist independently.\n",
        "  - method\n",
        "      - A method is also a function,but it belong to an object.we call it using object.method().the first parameter of most methods is self(refer to the object itself).\n",
        "  - and overall all methods are functions, but not all funtion are methods.\n",
        "\n",
        "\n",
        "2.  Explain the concept of function arguments and parameters in Python?\n",
        "\n",
        "  - Parameters\n",
        "     - parameters are the names what we write inside the function definition.they are like placeholders for value.\n",
        "     - example-\n",
        "     "
      ],
      "metadata": {
        "id": "PQqWeBd88v7C"
      }
    },
    {
      "cell_type": "code",
      "source": [
        "def greet(name):\n",
        "  print(\"hello\",name)"
      ],
      "metadata": {
        "id": "skvHB8BDRzdU"
      },
      "execution_count": null,
      "outputs": []
    },
    {
      "cell_type": "markdown",
      "source": [
        "here , name is a parameter\n",
        "\n",
        "  Arguments\n",
        "     - Arguments are the actualy values that we give to the function when we call it.\n",
        "     - example-\n",
        "\n"
      ],
      "metadata": {
        "id": "Ncb16Z_JSdnF"
      }
    },
    {
      "cell_type": "code",
      "source": [
        "greet(\"neeraj\")"
      ],
      "metadata": {
        "id": "vahPrJeCT0Ud"
      },
      "execution_count": null,
      "outputs": []
    },
    {
      "cell_type": "markdown",
      "source": [
        "here, \"neeraj\" is an argument\n",
        "\n",
        "  - types arguments\n",
        "    - (1) positional arguments- values given in order\n",
        "    "
      ],
      "metadata": {
        "id": "Ml7xuKBpT-5T"
      }
    },
    {
      "cell_type": "code",
      "source": [
        "def add(a,b):\n",
        "  return a+b\n",
        "  print(add(2,3))\n"
      ],
      "metadata": {
        "id": "ch8qYMD8UpqH"
      },
      "execution_count": null,
      "outputs": []
    },
    {
      "cell_type": "markdown",
      "source": [
        "  -  (2) keyword argument - specify by *name*\n",
        "     "
      ],
      "metadata": {
        "id": "z6ovo-kYVBRN"
      }
    },
    {
      "cell_type": "code",
      "source": [
        "print(add(b=2,a=3)) # order doesn't matter"
      ],
      "metadata": {
        "id": "zvt3vFadVQey"
      },
      "execution_count": null,
      "outputs": []
    },
    {
      "cell_type": "markdown",
      "source": [
        "  - (3) default argument - provide a default value."
      ],
      "metadata": {
        "id": "XXe_ZPi_ViIl"
      }
    },
    {
      "cell_type": "code",
      "source": [
        "def greet(name=\"guest\"):\n",
        "  print(\"hello\",name)\n",
        "  greet()\n",
        "  greet(\"neeraj\")"
      ],
      "metadata": {
        "id": "O5WIw1oYVtZE"
      },
      "execution_count": null,
      "outputs": []
    },
    {
      "cell_type": "markdown",
      "source": [
        "  - Variable-lenth arguments - when we don't know how many values will come\n",
        "    - *args - multiple positional argument.\n",
        "    - **kwaegs - multiple keyword arguments."
      ],
      "metadata": {
        "id": "Q9UyM_pzWZAQ"
      }
    },
    {
      "cell_type": "code",
      "source": [
        "def total(*numbers):\n",
        "  return sum(numbers)\n",
        "print(total(1,2,3,4))"
      ],
      "metadata": {
        "colab": {
          "base_uri": "https://localhost:8080/"
        },
        "id": "yldRTmgSWTVY",
        "outputId": "49421160-a9c6-4e26-f3f0-fe5f2090ae99"
      },
      "execution_count": null,
      "outputs": [
        {
          "output_type": "stream",
          "name": "stdout",
          "text": [
            "10\n"
          ]
        }
      ]
    },
    {
      "cell_type": "code",
      "source": [
        "def info(**details):\n",
        "  print(details)\n",
        "info(name=\"neeraj\",age=20)"
      ],
      "metadata": {
        "colab": {
          "base_uri": "https://localhost:8080/"
        },
        "id": "CX8OeKq2XpUa",
        "outputId": "0a3ad13e-4dd5-4c2f-81ff-812d587a9238"
      },
      "execution_count": null,
      "outputs": [
        {
          "output_type": "stream",
          "name": "stdout",
          "text": [
            "{'name': 'neeraj', 'age': 20}\n"
          ]
        }
      ]
    },
    {
      "cell_type": "markdown",
      "source": [],
      "metadata": {
        "id": "dTmMc_30YjNP"
      }
    },
    {
      "cell_type": "markdown",
      "source": [
        "3. What are the different ways to define and call a function in Python?\n",
        "\n",
        "  - In python, functions are blocks of reusable code thst can be defined in multiple ways and called differently.\n",
        "\n",
        "- ways to define a function\n"
      ],
      "metadata": {
        "id": "pWNyYKiyYux7"
      }
    },
    {
      "cell_type": "code",
      "source": [
        "#(1) simple function\n",
        "def greet():\n",
        "  print(\"hello\")\n",
        "greet()"
      ],
      "metadata": {
        "colab": {
          "base_uri": "https://localhost:8080/"
        },
        "id": "N8SAWq2caqpC",
        "outputId": "ae415208-0e5c-461f-c59b-55ccb311ed2b"
      },
      "execution_count": null,
      "outputs": [
        {
          "output_type": "stream",
          "name": "stdout",
          "text": [
            "hello\n"
          ]
        }
      ]
    },
    {
      "cell_type": "code",
      "source": [
        "#(2) function with parameter\n",
        "def greet(name):\n",
        "  print(\"hello\",name)\n"
      ],
      "metadata": {
        "id": "bRU2fNQFa4gq"
      },
      "execution_count": null,
      "outputs": []
    },
    {
      "cell_type": "code",
      "source": [
        "#(3)function with default parameters\n",
        "def greet(name=\"guest\"):\n",
        "  print(\"hello\",name)"
      ],
      "metadata": {
        "id": "QsRfCm3ua4jT"
      },
      "execution_count": null,
      "outputs": []
    },
    {
      "cell_type": "code",
      "source": [
        "#(4)function with return value\n",
        "def add(a,b):\n",
        "  return a+b"
      ],
      "metadata": {
        "id": "nZdDq_vca4ld"
      },
      "execution_count": null,
      "outputs": []
    },
    {
      "cell_type": "code",
      "source": [
        "#(5) Function with variable-lenth arguments\n",
        "  #using *args(any number of positional arguments)\n",
        "  def total(*numbers):\n",
        "    return sum(numbers)"
      ],
      "metadata": {
        "id": "7ZfHTPBga4qw"
      },
      "execution_count": null,
      "outputs": []
    },
    {
      "cell_type": "code",
      "source": [
        "#using **kwargs (any number of keyword argument)\n",
        "def info(**details):\n",
        "  print(details)"
      ],
      "metadata": {
        "id": "5EilPdmBa4tK"
      },
      "execution_count": null,
      "outputs": []
    },
    {
      "cell_type": "code",
      "source": [
        "#(6)Anonymous(lambda)function\n",
        "#one line, no name\n",
        "square = lambda x:x**2\n",
        "print(square(3))"
      ],
      "metadata": {
        "colab": {
          "base_uri": "https://localhost:8080/"
        },
        "id": "Ll65kJ1Xa4vm",
        "outputId": "59a72fd2-7c0c-43ce-d906-2ef87c6cac33"
      },
      "execution_count": null,
      "outputs": [
        {
          "output_type": "stream",
          "name": "stdout",
          "text": [
            "9\n"
          ]
        }
      ]
    },
    {
      "cell_type": "markdown",
      "source": [
        "  - way to call a function"
      ],
      "metadata": {
        "id": "o3DyE-XqdREj"
      }
    },
    {
      "cell_type": "code",
      "source": [
        "#(1)simple call\n",
        "greet()"
      ],
      "metadata": {
        "colab": {
          "base_uri": "https://localhost:8080/"
        },
        "id": "y-pFN_Qja4yd",
        "outputId": "3b0482bf-c001-4068-8e47-96acbea576ce"
      },
      "execution_count": null,
      "outputs": [
        {
          "output_type": "stream",
          "name": "stdout",
          "text": [
            "hello guest\n"
          ]
        }
      ]
    },
    {
      "cell_type": "code",
      "source": [
        "#(2)with argument\n",
        "greet(\"neeraj\")"
      ],
      "metadata": {
        "colab": {
          "base_uri": "https://localhost:8080/"
        },
        "id": "dT3kgppQa41N",
        "outputId": "ad63358a-8142-473f-a300-6d9041749d95"
      },
      "execution_count": null,
      "outputs": [
        {
          "output_type": "stream",
          "name": "stdout",
          "text": [
            "hello neeraj\n"
          ]
        }
      ]
    },
    {
      "cell_type": "code",
      "source": [
        "#(3)using default value\n",
        "greet()"
      ],
      "metadata": {
        "colab": {
          "base_uri": "https://localhost:8080/"
        },
        "id": "F8XrPZl2a432",
        "outputId": "307e6afa-9293-4a73-d018-adf08ce2a888"
      },
      "execution_count": null,
      "outputs": [
        {
          "output_type": "stream",
          "name": "stdout",
          "text": [
            "hello guest\n"
          ]
        }
      ]
    },
    {
      "cell_type": "code",
      "source": [
        "#(4)positional argument\n",
        "print(add(2,3))"
      ],
      "metadata": {
        "colab": {
          "base_uri": "https://localhost:8080/"
        },
        "id": "xqPBPBY-a46B",
        "outputId": "5f291e13-435a-4a8c-d3a0-971ec94805ea"
      },
      "execution_count": null,
      "outputs": [
        {
          "output_type": "stream",
          "name": "stdout",
          "text": [
            "5\n"
          ]
        }
      ]
    },
    {
      "cell_type": "code",
      "source": [
        "#(5)keyword argument\n",
        "print(add(b=2,a=3))"
      ],
      "metadata": {
        "colab": {
          "base_uri": "https://localhost:8080/"
        },
        "id": "-NQBX5EYa48L",
        "outputId": "80a1327d-896e-4778-b60b-ad6127f241a9"
      },
      "execution_count": null,
      "outputs": [
        {
          "output_type": "stream",
          "name": "stdout",
          "text": [
            "5\n"
          ]
        }
      ]
    },
    {
      "cell_type": "code",
      "source": [
        "#(6)unpacking argument\n",
        "# with *(for list and tuples)\n",
        "numbers=[1,2,3,4]\n",
        "print(total(*numbers))"
      ],
      "metadata": {
        "colab": {
          "base_uri": "https://localhost:8080/"
        },
        "id": "bFlV25lVa4-7",
        "outputId": "cbc3d6c2-1349-4db1-bbed-8dd90a3c88d9"
      },
      "execution_count": null,
      "outputs": [
        {
          "output_type": "stream",
          "name": "stdout",
          "text": [
            "10\n"
          ]
        }
      ]
    },
    {
      "cell_type": "code",
      "source": [
        "# with ** (for dictionaries)\n",
        "data = {\"a\":4,\"b\":5}\n",
        "print(add(**data))"
      ],
      "metadata": {
        "colab": {
          "base_uri": "https://localhost:8080/"
        },
        "id": "Q3i0Nsxoa5Bs",
        "outputId": "18264206-7b7e-4922-8056-d35f5a08d2d4"
      },
      "execution_count": null,
      "outputs": [
        {
          "output_type": "stream",
          "name": "stdout",
          "text": [
            "9\n"
          ]
        }
      ]
    },
    {
      "cell_type": "code",
      "source": [
        "#(7)Lambda Function call\n",
        "print(square(3))"
      ],
      "metadata": {
        "colab": {
          "base_uri": "https://localhost:8080/"
        },
        "id": "WcZ3z-Fia5EH",
        "outputId": "e4f8199c-db7c-40af-ffca-eb85d5f19b99"
      },
      "execution_count": null,
      "outputs": [
        {
          "output_type": "stream",
          "name": "stdout",
          "text": [
            "9\n"
          ]
        }
      ]
    },
    {
      "cell_type": "markdown",
      "source": [
        "4.  What is the purpose of the `return` statement in a Python function?\n",
        "\n",
        "  - the return statement in python is used inside a function to send a value back to the place where the function was called,\n",
        "\n",
        "  - purpose of RETURN in python\n",
        "    - (1) send a value back >> return is used to give back a result from a function to the place where it was called."
      ],
      "metadata": {
        "id": "I_V0DwWrfLuw"
      }
    },
    {
      "cell_type": "code",
      "source": [
        "def add(a,b):\n",
        "  return a+b\n",
        "\n",
        "  result = add(2,3)\n",
        "  print(result)"
      ],
      "metadata": {
        "id": "seMr7_uphaJ1"
      },
      "execution_count": null,
      "outputs": []
    },
    {
      "cell_type": "markdown",
      "source": [
        "  - (2) end the function >> when python sees return, it stops running the function immediately."
      ],
      "metadata": {
        "id": "abrxHI9Dh2PX"
      }
    },
    {
      "cell_type": "code",
      "source": [
        "def test():\n",
        "  print(\"before return\")\n",
        "  return\n",
        "  print(\"after return\")\n",
        "test()"
      ],
      "metadata": {
        "colab": {
          "base_uri": "https://localhost:8080/"
        },
        "id": "Ix-fgbckiJNh",
        "outputId": "2e395c30-b410-40c1-89b3-11a8952de039"
      },
      "execution_count": null,
      "outputs": [
        {
          "output_type": "stream",
          "name": "stdout",
          "text": [
            "before return\n"
          ]
        }
      ]
    },
    {
      "cell_type": "markdown",
      "source": [
        "  - (4) return Multiple values >> we can return more than one value(actually as a tuple)\n",
        "\n",
        "  "
      ],
      "metadata": {
        "id": "HgVKdRmFia7O"
      }
    },
    {
      "cell_type": "code",
      "source": [
        "def calculate(a,b):\n",
        "  return a+b,a-b\n",
        "  result = calculate(5,3)\n",
        "  print(result)"
      ],
      "metadata": {
        "id": "zZFmXjCpa5G-"
      },
      "execution_count": null,
      "outputs": []
    },
    {
      "cell_type": "markdown",
      "source": [
        "  - (4) Return nothing(default is none)>> if we don't use return, the function automatically return none"
      ],
      "metadata": {
        "id": "rfMrj0DXjX4z"
      }
    },
    {
      "cell_type": "code",
      "source": [
        "\n",
        "def greet():\n",
        "  print(\"hello\",name)\n",
        "\n",
        "  result = greet(\"neeraj\")\n",
        "  print(result)"
      ],
      "metadata": {
        "id": "3b_xdBnnjuaU"
      },
      "execution_count": null,
      "outputs": []
    },
    {
      "cell_type": "markdown",
      "source": [
        "5. What are iterators in Python and how do they differ from iterables?\n",
        "\n",
        "  -  An iterator is an object that allows traversal through a countable number of values. It is used to iterate over iterable objects like lists, tuples, sets, etc\n",
        "     - iterable >> An iterable is any object we can loop through with for loop.\n",
        "     they give us items one by one,but they don't remember where they left off.\n",
        "     - example> list,tuple,string,dictionaries.set."
      ],
      "metadata": {
        "id": "NN4PpKyckz7o"
      }
    },
    {
      "cell_type": "code",
      "source": [
        "my_list = [1,2,3]\n",
        "for x in my_list:\n",
        "  print(x)"
      ],
      "metadata": {
        "colab": {
          "base_uri": "https://localhost:8080/"
        },
        "id": "3NDJP1xPa5L9",
        "outputId": "a0b27af1-4f5e-4891-bdae-6e0b613f2951"
      },
      "execution_count": null,
      "outputs": [
        {
          "output_type": "stream",
          "name": "stdout",
          "text": [
            "1\n",
            "2\n",
            "3\n"
          ]
        }
      ]
    },
    {
      "cell_type": "markdown",
      "source": [
        "  - Iterator >> An iterator is an object tht actually produces the values one at a time when we ask for them.it remember its position.we get an iterator from an iterable using iter(). we get the next value using next()."
      ],
      "metadata": {
        "id": "g4btuQalnJZ7"
      }
    },
    {
      "cell_type": "code",
      "source": [
        "my_list = [1,2,3]\n",
        "it = iter(my_list)\n",
        "print(next(it))\n",
        "print(next(it))\n",
        "print(next(it))"
      ],
      "metadata": {
        "colab": {
          "base_uri": "https://localhost:8080/"
        },
        "id": "91CkRqZBa5Om",
        "outputId": "300bdbd5-84b7-481b-e648-c5702062642f"
      },
      "execution_count": null,
      "outputs": [
        {
          "output_type": "stream",
          "name": "stdout",
          "text": [
            "1\n",
            "2\n",
            "3\n"
          ]
        }
      ]
    },
    {
      "cell_type": "markdown",
      "source": [
        "6. Explain the concept of generators in Python and how they are defined.\n",
        "\n",
        "  - Generators are a simple way to create iterators using functions and the yield keyword instead of returning values.\n",
        "  - very useful for big data or infinite sequences\n",
        "\n",
        "  - how to define a generator\n",
        "    - (1) using yield in a fuction\n",
        "    - instead of return,use yield\n",
        "    - Each time the function is called, it pauses at yield and continues from there next time"
      ],
      "metadata": {
        "id": "phFk-tQAoKDN"
      }
    },
    {
      "cell_type": "code",
      "source": [
        "def count_up_to(n):\n",
        "  num = 1\n",
        "  while num <= n:\n",
        "    yield num\n",
        "    num += 1\n",
        "  gen = count_up_to(5)\n",
        "  print(next(gen))\n",
        "  print(next(gen))\n",
        "  print(next(gen))\n",
        "\n",
        "  for value in count_up_to(5):\n",
        "    print(value)\n",
        "\n",
        "\n"
      ],
      "metadata": {
        "id": "BwoczA7ka5RX"
      },
      "execution_count": null,
      "outputs": []
    },
    {
      "cell_type": "markdown",
      "source": [
        "  (2) Generator expression"
      ],
      "metadata": {
        "id": "XY6a2IRCrEwv"
      }
    },
    {
      "cell_type": "code",
      "source": [
        "squares = (x*x for x in range(5))\n",
        "print(next(squares))\n",
        "print(next(squares))\n",
        "print(next(squares))"
      ],
      "metadata": {
        "colab": {
          "base_uri": "https://localhost:8080/"
        },
        "id": "krWbErQXa5WW",
        "outputId": "0fe781c5-2eed-4f10-ee06-6b50674c7483"
      },
      "execution_count": null,
      "outputs": [
        {
          "output_type": "stream",
          "name": "stdout",
          "text": [
            "0\n",
            "1\n",
            "4\n"
          ]
        }
      ]
    },
    {
      "cell_type": "markdown",
      "source": [
        "7. What are the advantages of using generators over regular functions?\n",
        "\n",
        " - Advantages of generators\n",
        "   - (1) memory Efficiency >> regular function (with return) stores all results in memory at once.generator produces value one by one (lazy evaluation) so it saves memory.\n",
        "\n",
        "   - (2) Lazy Evaluation (on-demand value) >> values are created only when needed.this make generators faster for large or infinite sequences.\n",
        "   - (3) Infinite Sequences possible >> You can create sequences that never end.normal functions can't return infinite lists.\n",
        "   - (4) cleaner code >> Easie to write compared to creating custom iterator classes.just use yield instead of managing _ _iter_ _ and_ _next_ _.\n",
        "   _ (5) pipeline of data processing >> Generators can be changed togather like a pipeline."
      ],
      "metadata": {
        "id": "oIr7k2x4rtLW"
      }
    },
    {
      "cell_type": "markdown",
      "source": [
        "8. What is a lambda function in Python and when is it typically used?\n",
        "\n",
        "  - Lambda functions are small, anonymous functions defined using the lambda keyword. They are used for creating small, throwaway functions without the need to formally define a function using def.\n",
        "  \n",
        "  - Anonymous: Lambda functions are not bound to a name.\n",
        "  - Single Expression: They can contain only one expression, which is evaluated and returned."
      ],
      "metadata": {
        "id": "65DfwsffBrDK"
      }
    },
    {
      "cell_type": "code",
      "source": [
        " #syntax\n",
        " lambda arguments: expression"
      ],
      "metadata": {
        "id": "OBECAS_Ca5Zw"
      },
      "execution_count": null,
      "outputs": []
    },
    {
      "cell_type": "code",
      "source": [
        "#example\n",
        "square = lambda x:x**2\n",
        "print(square(3))"
      ],
      "metadata": {
        "colab": {
          "base_uri": "https://localhost:8080/"
        },
        "id": "a3IRzLFYDA3m",
        "outputId": "3bc25f12-6470-4e12-ae8e-877e044e4e9d"
      },
      "execution_count": null,
      "outputs": [
        {
          "output_type": "stream",
          "name": "stdout",
          "text": [
            "9\n"
          ]
        }
      ]
    },
    {
      "cell_type": "markdown",
      "source": [
        "- when is it typically used?\n",
        "   - Lambda Function are used when A small function is needed for a short time (without formally defining it using def).\n",
        "   - they are often used with function like:\n",
        "      - map() > Apply a function to each to item in an iterable"
      ],
      "metadata": {
        "id": "W66eTecNDPcb"
      }
    },
    {
      "cell_type": "code",
      "source": [
        "numbers = [1,2,3,4,5]\n",
        "squared = list(map(lambda x:x**2,numbers))\n",
        "print(squared)"
      ],
      "metadata": {
        "colab": {
          "base_uri": "https://localhost:8080/"
        },
        "id": "jKbztgvADA6m",
        "outputId": "6118056f-b23b-4a17-d0b4-e9e16e20f500"
      },
      "execution_count": null,
      "outputs": [
        {
          "output_type": "stream",
          "name": "stdout",
          "text": [
            "[1, 4, 9, 16, 25]\n"
          ]
        }
      ]
    },
    {
      "cell_type": "markdown",
      "source": [
        "- filter() > filter elements based on a condition"
      ],
      "metadata": {
        "id": "QYEqsdyfETau"
      }
    },
    {
      "cell_type": "code",
      "source": [
        "numbers = [1,2,3,4,5,6,7,8,9]\n",
        "evens = list(filter(lambda x:x%2==0,numbers))\n",
        "print(evens)"
      ],
      "metadata": {
        "colab": {
          "base_uri": "https://localhost:8080/"
        },
        "id": "rHM47TqaDA-A",
        "outputId": "db064aa8-62e8-4fcc-a636-775a115162b1"
      },
      "execution_count": null,
      "outputs": [
        {
          "output_type": "stream",
          "name": "stdout",
          "text": [
            "[2, 4, 6, 8]\n"
          ]
        }
      ]
    },
    {
      "cell_type": "markdown",
      "source": [
        "- sorted() with key > sort with custom rules"
      ],
      "metadata": {
        "id": "Obj7QNYTEzJ0"
      }
    },
    {
      "cell_type": "code",
      "source": [
        "words = [\"apple\",\"banana\",\"cherry\",\"date\"]\n",
        "sorted_words = sorted(words,key=lambda x:len(x))\n",
        "print(sorted_words)"
      ],
      "metadata": {
        "colab": {
          "base_uri": "https://localhost:8080/"
        },
        "id": "wgS-1YKgFBY2",
        "outputId": "31a1d799-8b38-4944-f9bc-da0adf150b3b"
      },
      "execution_count": null,
      "outputs": [
        {
          "output_type": "stream",
          "name": "stdout",
          "text": [
            "['date', 'apple', 'banana', 'cherry']\n"
          ]
        }
      ]
    },
    {
      "cell_type": "markdown",
      "source": [
        "9. Explain the purpose and usage of the `map()` function in Python.\n",
        "\n",
        "  - the map() function in python in python is a built-in function that allows us to apply a function to each item in an iterable (like a list,tuple,or string) without using an explicit loop.\n",
        "\n",
        "  - Purpose of map():\n",
        "    - to tranceform data by applying the operation to every element of an iterable.\n",
        "    - tomake code shorter and cleaner by avoiding manual for loops.\n",
        "    "
      ],
      "metadata": {
        "id": "yVikc1-7FOln"
      }
    },
    {
      "cell_type": "code",
      "source": [
        "#syntsx\n",
        "map(function,iterable)"
      ],
      "metadata": {
        "id": "jdeLoS78Gxzu"
      },
      "execution_count": null,
      "outputs": []
    },
    {
      "cell_type": "markdown",
      "source": [
        "- function > A function that will be applied to each alement.\n",
        "- Itrable > A sequence like a list, tuple, or string.\n",
        "- returns a map object(an iterator). to seethr results, we usually convert it into a list,tuplt,etc.\n",
        "\n",
        "- example>> using a normal function"
      ],
      "metadata": {
        "id": "oFz1CJ3wG3Yi"
      }
    },
    {
      "cell_type": "code",
      "source": [
        "def square(x):\n",
        "  return x**2\n",
        "numbers = [1,2,3,4,5]\n",
        "squared = list(map(square,numbers))\n",
        "print(squared)\n",
        "                                      # here, map() applied the square the function to every number in the list\n",
        "\n"
      ],
      "metadata": {
        "colab": {
          "base_uri": "https://localhost:8080/"
        },
        "id": "NHepYTN4ItZo",
        "outputId": "0cbea256-de58-4523-f7aa-f2d5d07d8b3b"
      },
      "execution_count": null,
      "outputs": [
        {
          "output_type": "stream",
          "name": "stdout",
          "text": [
            "[1, 4, 9, 16, 25]\n"
          ]
        }
      ]
    },
    {
      "cell_type": "code",
      "source": [
        "#example 2\n",
        "numbers = [1,2,3,4,5]\n",
        "result = map(lambda x:x*2,numbers)\n",
        "print(list(result))"
      ],
      "metadata": {
        "colab": {
          "base_uri": "https://localhost:8080/"
        },
        "id": "tqxGCZquKAkF",
        "outputId": "accb66c2-b9c5-41b0-a090-26e7cf0973b2"
      },
      "execution_count": null,
      "outputs": [
        {
          "output_type": "stream",
          "name": "stdout",
          "text": [
            "[2, 4, 6, 8, 10]\n"
          ]
        }
      ]
    },
    {
      "cell_type": "code",
      "source": [
        "#example 3\n",
        "# if multiple iterables are given, map() takes one element from each iterable and applied the function\n",
        "\n",
        "a = [1,2,3]\n",
        "b = [4,5,6]\n",
        "result = map(lambda x,y:x+y,a,b)\n",
        "print(list(result))"
      ],
      "metadata": {
        "colab": {
          "base_uri": "https://localhost:8080/"
        },
        "id": "yShaD9cQKYhQ",
        "outputId": "5e94ed85-c0cb-451d-eb8c-ad213f5b3e27"
      },
      "execution_count": null,
      "outputs": [
        {
          "output_type": "stream",
          "name": "stdout",
          "text": [
            "[5, 7, 9]\n"
          ]
        }
      ]
    },
    {
      "cell_type": "markdown",
      "source": [
        "- when to use map()\n",
        "  - when we need to apply the same function to each element in an iterable.\n",
        "  - when we want concise, functional- style code insead of writing a loop."
      ],
      "metadata": {
        "id": "PeNCltpYK966"
      }
    },
    {
      "cell_type": "markdown",
      "source": [
        "10. What is the difference between `map()`, `reduce()`, and `filter()` functions in Python?\n",
        "\n",
        "- 1. map()\n",
        "  - purpose >> Transform each element in an iterable.\n",
        "  - usage >> applies a function to every item and returns an iterator of the result.\n",
        "  - example"
      ],
      "metadata": {
        "id": "cvL43hqdLY3_"
      }
    },
    {
      "cell_type": "code",
      "source": [
        "numbers = [1,2,3,4]\n",
        "result = map(lambda x:x*2,numbers)\n",
        "print(list(result))"
      ],
      "metadata": {
        "colab": {
          "base_uri": "https://localhost:8080/"
        },
        "id": "BNeH4YzNMLvG",
        "outputId": "18a00229-4a8c-411b-a689-c4357d440385"
      },
      "execution_count": null,
      "outputs": [
        {
          "output_type": "stream",
          "name": "stdout",
          "text": [
            "[2, 4, 6, 8]\n"
          ]
        }
      ]
    },
    {
      "cell_type": "markdown",
      "source": [
        " - filter()\n",
        "   - purpose >> select element based on a condition.\n",
        "   - Usage >> Applies a function that returns true/false, and keeps only the elements where the functionreturns true.\n",
        "   - Example"
      ],
      "metadata": {
        "id": "5n_Dhz8EMU2K"
      }
    },
    {
      "cell_type": "code",
      "source": [
        "numbers = [1,2,3,4,5,6]\n",
        "result = filter(lambda x:x%2==0,numbers)\n",
        "print(list(result))"
      ],
      "metadata": {
        "colab": {
          "base_uri": "https://localhost:8080/"
        },
        "id": "wUw4v2uMM2oW",
        "outputId": "b86b6fd3-e1fd-478a-f985-cc13c54a182a"
      },
      "execution_count": null,
      "outputs": [
        {
          "output_type": "stream",
          "name": "stdout",
          "text": [
            "[2, 4, 6]\n"
          ]
        }
      ]
    },
    {
      "cell_type": "markdown",
      "source": [
        " - reduce() (from function)\n",
        "   - purpose>> reduce a sequence into a single value by repeatedly applying a function.\n",
        "   - Usage>> combines elements pair by pair until only one result remains.\n",
        "   - Example"
      ],
      "metadata": {
        "id": "G8RrkDGbNG5R"
      }
    },
    {
      "cell_type": "code",
      "source": [
        "from functools  import reduce\n",
        "numbers = [1,2,3,4,]\n",
        "result = reduce(lambda x,y:x+y,numbers)\n",
        "print(result)\n"
      ],
      "metadata": {
        "colab": {
          "base_uri": "https://localhost:8080/"
        },
        "id": "luBreKA-Nog-",
        "outputId": "0c309442-68eb-42aa-f2ec-4672e46bc16d"
      },
      "execution_count": null,
      "outputs": [
        {
          "output_type": "stream",
          "name": "stdout",
          "text": [
            "10\n"
          ]
        }
      ]
    },
    {
      "cell_type": "markdown",
      "source": [
        "11. Using pen & Paper write the internal mechanism for sum operation using  reduce function on this given\n",
        "list:[47,11,42,13];\n",
        "\n",
        "  - code for reference"
      ],
      "metadata": {
        "id": "Wu9J6r6lOBR8"
      }
    },
    {
      "cell_type": "code",
      "source": [
        "from functools import reduce\n",
        "numbers = [47,11,42,13]\n",
        "result = reduce(lambda x,y:x+y,numbers)\n",
        "print(result)"
      ],
      "metadata": {
        "colab": {
          "base_uri": "https://localhost:8080/"
        },
        "id": "ZHAScz9mndyo",
        "outputId": "30464d7a-5e7b-4651-8c9c-c8e6833d1a39"
      },
      "execution_count": 59,
      "outputs": [
        {
          "output_type": "stream",
          "name": "stdout",
          "text": [
            "113\n"
          ]
        }
      ]
    },
    {
      "cell_type": "markdown",
      "source": [
        "internal working(step by step)\n",
        "  - Reduce(function, iterable) takes the first two elements and applies the function.\n",
        "  - then it takes the result and the next element,applies the function again.\n",
        "  - it keeps doing this until one final value remains.\n",
        "\n",
        "  - stepwise Execution\n",
        "   list: [47,11.42,13]\n",
        "   function: lambda x,y:x+y"
      ],
      "metadata": {
        "id": "onbVab1vnmMb"
      }
    },
    {
      "cell_type": "code",
      "source": [
        "# first two elements\n",
        "\n",
        "X = 47, y = 11\n",
        "result = 58"
      ],
      "metadata": {
        "id": "KHLu7ntNoiZB"
      },
      "execution_count": null,
      "outputs": []
    },
    {
      "cell_type": "code",
      "source": [
        "# take result(58) and next element(42)\n",
        "\n",
        "x = 58, y = 42\n",
        "result = 100"
      ],
      "metadata": {
        "id": "VxKk1PJzoyXK"
      },
      "execution_count": null,
      "outputs": []
    },
    {
      "cell_type": "code",
      "source": [
        "take result(100) and next element(13)\n",
        "\n",
        "x = 100, y = 13\n",
        "result = 113\n",
        "               #final result = 113"
      ],
      "metadata": {
        "id": "DaGb_eato9Vl"
      },
      "execution_count": null,
      "outputs": []
    },
    {
      "cell_type": "code",
      "source": [
        "reduce(lambda x,y:x+y,[47,11,42,13])"
      ],
      "metadata": {
        "colab": {
          "base_uri": "https://localhost:8080/"
        },
        "id": "Gz34uCmapIPv",
        "outputId": "5a1880eb-0296-4d88-acc3-beecacb92ab1"
      },
      "execution_count": 60,
      "outputs": [
        {
          "output_type": "execute_result",
          "data": {
            "text/plain": [
              "113"
            ]
          },
          "metadata": {},
          "execution_count": 60
        }
      ]
    },
    {
      "cell_type": "code",
      "source": [
        "from typing_extensions import final\n",
        "# so the mechanism is\n",
        "step:(47+11)\n",
        "step:(58+42)\n",
        "step:(100+13)\n",
        "final:113"
      ],
      "metadata": {
        "id": "KLNv_FBPp86O"
      },
      "execution_count": 65,
      "outputs": []
    },
    {
      "cell_type": "markdown",
      "source": [
        "#practical Questions\n",
        "\n",
        "\n",
        "1. 1. Write a Python function that takes a list of numbers as input and returns the sum of all even numbers in\n",
        "the list."
      ],
      "metadata": {
        "id": "uG0xMiklOPmr"
      }
    },
    {
      "cell_type": "code",
      "source": [
        "def sum_even_numbers(numbers):\n",
        "  sum = 0\n",
        "  for num in numbers:\n",
        "    if num % 2 == 0:\n",
        "      sum += num\n",
        "  return sum"
      ],
      "metadata": {
        "id": "irTLAv4FOM8t"
      },
      "execution_count": null,
      "outputs": []
    },
    {
      "cell_type": "code",
      "source": [
        "my_list = [1,2,3,4,5,6,]\n",
        "result = sum_even_numbers(my_list)\n",
        "print(result)"
      ],
      "metadata": {
        "colab": {
          "base_uri": "https://localhost:8080/"
        },
        "id": "zGDWETdROM_S",
        "outputId": "54e7843a-7ac8-4700-8605-2884a11bf5b6"
      },
      "execution_count": null,
      "outputs": [
        {
          "output_type": "stream",
          "name": "stdout",
          "text": [
            "12\n"
          ]
        }
      ]
    },
    {
      "cell_type": "markdown",
      "source": [
        "2. Create a Python function that accepts a string and returns the reverse of that string."
      ],
      "metadata": {
        "id": "YQ2UZrHSPTes"
      }
    },
    {
      "cell_type": "code",
      "source": [
        "def reverse_string(string):\n",
        "  return string[::-1]\n",
        "\n",
        "  text = \"hello world\"\n",
        "print(\"reversed string:\",reverse_string(text))\n",
        "\n"
      ],
      "metadata": {
        "colab": {
          "base_uri": "https://localhost:8080/"
        },
        "id": "j1pmxsXYONB3",
        "outputId": "6022309e-2c47-4643-cbcd-e3740b9ec40c"
      },
      "execution_count": null,
      "outputs": [
        {
          "output_type": "stream",
          "name": "stdout",
          "text": [
            "reversed string: dlrow olleh\n"
          ]
        }
      ]
    },
    {
      "cell_type": "markdown",
      "source": [
        "3. . Implement a Python function that takes a list of integers and returns a new list containing the squares of\n",
        "each number."
      ],
      "metadata": {
        "id": "di1VkyHkQUhk"
      }
    },
    {
      "cell_type": "code",
      "source": [
        "def square_numbers(numbers):\n",
        "  return [num**2 for num in numbers]\n",
        "\n",
        "  my_list = [1,2,3,4,5]\n",
        "print(\"squared numbers:\",square_numbers(my_list))"
      ],
      "metadata": {
        "colab": {
          "base_uri": "https://localhost:8080/"
        },
        "id": "R9Qxpw4mONG_",
        "outputId": "e9262456-da72-4a94-fb26-3a75d7efc23c"
      },
      "execution_count": null,
      "outputs": [
        {
          "output_type": "stream",
          "name": "stdout",
          "text": [
            "squared numbers: [1, 4, 9, 16, 25, 36]\n"
          ]
        }
      ]
    },
    {
      "cell_type": "markdown",
      "source": [
        "4.  Write a Python function that checks if a given number is prime or not from 1 to 200."
      ],
      "metadata": {
        "id": "mVhmiFCCRBYx"
      }
    },
    {
      "cell_type": "code",
      "source": [
        "def is_prime(number):\n",
        "  if number <= 1:\n",
        "    return False\n",
        "  for i in range(2,int(number**0.5)+1):\n",
        "    if number % i == 0:\n",
        "      return False\n",
        "  return True\n",
        "\n",
        "  for num in range(1,201):\n",
        "    if is_prime(num):\n",
        "      print(num, \"is a prime number\")\n",
        "    else:\n",
        "      print(num,\"is not a prime number\")"
      ],
      "metadata": {
        "id": "2qY0yfnKONJc"
      },
      "execution_count": null,
      "outputs": []
    },
    {
      "cell_type": "code",
      "source": [
        "for num in range(1,201):\n",
        "    if is_prime(num):\n",
        "      print(num, \"is a prime number\")\n",
        "    else:\n",
        "      print(num,\"is not a prime number\")"
      ],
      "metadata": {
        "colab": {
          "base_uri": "https://localhost:8080/"
        },
        "id": "6lhYez-4ONL-",
        "outputId": "2b54466f-ca1e-4a02-b955-572fb1dbc89b"
      },
      "execution_count": null,
      "outputs": [
        {
          "output_type": "stream",
          "name": "stdout",
          "text": [
            "1 is not a prime number\n",
            "2 is a prime number\n",
            "3 is a prime number\n",
            "4 is not a prime number\n",
            "5 is a prime number\n",
            "6 is not a prime number\n",
            "7 is a prime number\n",
            "8 is not a prime number\n",
            "9 is not a prime number\n",
            "10 is not a prime number\n",
            "11 is a prime number\n",
            "12 is not a prime number\n",
            "13 is a prime number\n",
            "14 is not a prime number\n",
            "15 is not a prime number\n",
            "16 is not a prime number\n",
            "17 is a prime number\n",
            "18 is not a prime number\n",
            "19 is a prime number\n",
            "20 is not a prime number\n",
            "21 is not a prime number\n",
            "22 is not a prime number\n",
            "23 is a prime number\n",
            "24 is not a prime number\n",
            "25 is not a prime number\n",
            "26 is not a prime number\n",
            "27 is not a prime number\n",
            "28 is not a prime number\n",
            "29 is a prime number\n",
            "30 is not a prime number\n",
            "31 is a prime number\n",
            "32 is not a prime number\n",
            "33 is not a prime number\n",
            "34 is not a prime number\n",
            "35 is not a prime number\n",
            "36 is not a prime number\n",
            "37 is a prime number\n",
            "38 is not a prime number\n",
            "39 is not a prime number\n",
            "40 is not a prime number\n",
            "41 is a prime number\n",
            "42 is not a prime number\n",
            "43 is a prime number\n",
            "44 is not a prime number\n",
            "45 is not a prime number\n",
            "46 is not a prime number\n",
            "47 is a prime number\n",
            "48 is not a prime number\n",
            "49 is not a prime number\n",
            "50 is not a prime number\n",
            "51 is not a prime number\n",
            "52 is not a prime number\n",
            "53 is a prime number\n",
            "54 is not a prime number\n",
            "55 is not a prime number\n",
            "56 is not a prime number\n",
            "57 is not a prime number\n",
            "58 is not a prime number\n",
            "59 is a prime number\n",
            "60 is not a prime number\n",
            "61 is a prime number\n",
            "62 is not a prime number\n",
            "63 is not a prime number\n",
            "64 is not a prime number\n",
            "65 is not a prime number\n",
            "66 is not a prime number\n",
            "67 is a prime number\n",
            "68 is not a prime number\n",
            "69 is not a prime number\n",
            "70 is not a prime number\n",
            "71 is a prime number\n",
            "72 is not a prime number\n",
            "73 is a prime number\n",
            "74 is not a prime number\n",
            "75 is not a prime number\n",
            "76 is not a prime number\n",
            "77 is not a prime number\n",
            "78 is not a prime number\n",
            "79 is a prime number\n",
            "80 is not a prime number\n",
            "81 is not a prime number\n",
            "82 is not a prime number\n",
            "83 is a prime number\n",
            "84 is not a prime number\n",
            "85 is not a prime number\n",
            "86 is not a prime number\n",
            "87 is not a prime number\n",
            "88 is not a prime number\n",
            "89 is a prime number\n",
            "90 is not a prime number\n",
            "91 is not a prime number\n",
            "92 is not a prime number\n",
            "93 is not a prime number\n",
            "94 is not a prime number\n",
            "95 is not a prime number\n",
            "96 is not a prime number\n",
            "97 is a prime number\n",
            "98 is not a prime number\n",
            "99 is not a prime number\n",
            "100 is not a prime number\n",
            "101 is a prime number\n",
            "102 is not a prime number\n",
            "103 is a prime number\n",
            "104 is not a prime number\n",
            "105 is not a prime number\n",
            "106 is not a prime number\n",
            "107 is a prime number\n",
            "108 is not a prime number\n",
            "109 is a prime number\n",
            "110 is not a prime number\n",
            "111 is not a prime number\n",
            "112 is not a prime number\n",
            "113 is a prime number\n",
            "114 is not a prime number\n",
            "115 is not a prime number\n",
            "116 is not a prime number\n",
            "117 is not a prime number\n",
            "118 is not a prime number\n",
            "119 is not a prime number\n",
            "120 is not a prime number\n",
            "121 is not a prime number\n",
            "122 is not a prime number\n",
            "123 is not a prime number\n",
            "124 is not a prime number\n",
            "125 is not a prime number\n",
            "126 is not a prime number\n",
            "127 is a prime number\n",
            "128 is not a prime number\n",
            "129 is not a prime number\n",
            "130 is not a prime number\n",
            "131 is a prime number\n",
            "132 is not a prime number\n",
            "133 is not a prime number\n",
            "134 is not a prime number\n",
            "135 is not a prime number\n",
            "136 is not a prime number\n",
            "137 is a prime number\n",
            "138 is not a prime number\n",
            "139 is a prime number\n",
            "140 is not a prime number\n",
            "141 is not a prime number\n",
            "142 is not a prime number\n",
            "143 is not a prime number\n",
            "144 is not a prime number\n",
            "145 is not a prime number\n",
            "146 is not a prime number\n",
            "147 is not a prime number\n",
            "148 is not a prime number\n",
            "149 is a prime number\n",
            "150 is not a prime number\n",
            "151 is a prime number\n",
            "152 is not a prime number\n",
            "153 is not a prime number\n",
            "154 is not a prime number\n",
            "155 is not a prime number\n",
            "156 is not a prime number\n",
            "157 is a prime number\n",
            "158 is not a prime number\n",
            "159 is not a prime number\n",
            "160 is not a prime number\n",
            "161 is not a prime number\n",
            "162 is not a prime number\n",
            "163 is a prime number\n",
            "164 is not a prime number\n",
            "165 is not a prime number\n",
            "166 is not a prime number\n",
            "167 is a prime number\n",
            "168 is not a prime number\n",
            "169 is not a prime number\n",
            "170 is not a prime number\n",
            "171 is not a prime number\n",
            "172 is not a prime number\n",
            "173 is a prime number\n",
            "174 is not a prime number\n",
            "175 is not a prime number\n",
            "176 is not a prime number\n",
            "177 is not a prime number\n",
            "178 is not a prime number\n",
            "179 is a prime number\n",
            "180 is not a prime number\n",
            "181 is a prime number\n",
            "182 is not a prime number\n",
            "183 is not a prime number\n",
            "184 is not a prime number\n",
            "185 is not a prime number\n",
            "186 is not a prime number\n",
            "187 is not a prime number\n",
            "188 is not a prime number\n",
            "189 is not a prime number\n",
            "190 is not a prime number\n",
            "191 is a prime number\n",
            "192 is not a prime number\n",
            "193 is a prime number\n",
            "194 is not a prime number\n",
            "195 is not a prime number\n",
            "196 is not a prime number\n",
            "197 is a prime number\n",
            "198 is not a prime number\n",
            "199 is a prime number\n",
            "200 is not a prime number\n"
          ]
        }
      ]
    },
    {
      "cell_type": "markdown",
      "source": [
        "5. Create an iterator class in Python that generates the Fibonacci sequence up to a specified number of\n",
        "terms."
      ],
      "metadata": {
        "id": "oyi04PU_SLlj"
      }
    },
    {
      "cell_type": "code",
      "source": [
        "class fibonacci:\n",
        "  def __init__(self, n_terms):\n",
        "    self.n_terms = n_terms\n",
        "    self.count = 0\n",
        "    self.a,self.b = 0,1\n",
        "  def __iter__(self):\n",
        "    return self\n",
        "  def __next__(self):\n",
        "    if self.count < self.n_terms:\n",
        "      if self.count ==0:\n",
        "        self.count += 1\n",
        "        return self.a\n",
        "      elif self.count == 1:\n",
        "        self.count += 1\n",
        "        return self.b\n",
        "      else:\n",
        "        self.a,self.b = self.b,self.a+self.b\n",
        "        self.count += 1\n",
        "        return self.b\n",
        "    else:\n",
        "      raise StopIteration\n",
        "fib = fibonacci(10)\n",
        "for num in fib:\n",
        "  print(num,end=\" \")"
      ],
      "metadata": {
        "colab": {
          "base_uri": "https://localhost:8080/"
        },
        "id": "RwJGjextONOu",
        "outputId": "277ec474-6cf1-4ca4-8438-c85df76e269e"
      },
      "execution_count": null,
      "outputs": [
        {
          "output_type": "stream",
          "name": "stdout",
          "text": [
            "0 1 1 2 3 5 8 13 21 34 "
          ]
        }
      ]
    },
    {
      "cell_type": "markdown",
      "source": [
        "6.  Write a generator function in Python that yields the powers of 2 up to a given exponent."
      ],
      "metadata": {
        "id": "oLUAOwXsUnp1"
      }
    },
    {
      "cell_type": "code",
      "source": [
        "def power_of_two(exponent):\n",
        "  for i in range(exponent+1):\n",
        "    yield 2**i\n",
        "for power in power_of_two(5):\n",
        "  print(power)"
      ],
      "metadata": {
        "colab": {
          "base_uri": "https://localhost:8080/"
        },
        "id": "9x0a_gaBONUm",
        "outputId": "354653c4-d529-409d-f3c8-fcae00d4b14d"
      },
      "execution_count": null,
      "outputs": [
        {
          "output_type": "stream",
          "name": "stdout",
          "text": [
            "1\n",
            "2\n",
            "4\n",
            "8\n",
            "16\n",
            "32\n"
          ]
        }
      ]
    },
    {
      "cell_type": "markdown",
      "source": [
        "7.  Implement a generator function that reads a file line by line and yields each line as a string."
      ],
      "metadata": {
        "id": "bdo9dum2VE2s"
      }
    },
    {
      "cell_type": "code",
      "source": [
        "def read_lines(filename):\n",
        "  with open(filename,'r') as file:\n",
        "    for line in file:\n",
        "      yield line.strip()\n",
        "for line in read_lines(\"example.txt\"):  # the file is read lazily,one line at atime (memory efficient).\n",
        "  print(line)                           # we don't load the whole file into memory"
      ],
      "metadata": {
        "colab": {
          "base_uri": "https://localhost:8080/",
          "height": 315
        },
        "id": "uQ_usu-dONYH",
        "outputId": "ebe23d6e-3eba-48e3-f781-29410dc61f4e"
      },
      "execution_count": null,
      "outputs": [
        {
          "output_type": "error",
          "ename": "FileNotFoundError",
          "evalue": "[Errno 2] No such file or directory: 'example.txt'",
          "traceback": [
            "\u001b[0;31m---------------------------------------------------------------------------\u001b[0m",
            "\u001b[0;31mFileNotFoundError\u001b[0m                         Traceback (most recent call last)",
            "\u001b[0;32m/tmp/ipython-input-1796991425.py\u001b[0m in \u001b[0;36m<cell line: 0>\u001b[0;34m()\u001b[0m\n\u001b[1;32m      3\u001b[0m     \u001b[0;32mfor\u001b[0m \u001b[0mline\u001b[0m \u001b[0;32min\u001b[0m \u001b[0mfile\u001b[0m\u001b[0;34m:\u001b[0m\u001b[0;34m\u001b[0m\u001b[0;34m\u001b[0m\u001b[0m\n\u001b[1;32m      4\u001b[0m       \u001b[0;32myield\u001b[0m \u001b[0mline\u001b[0m\u001b[0;34m.\u001b[0m\u001b[0mstrip\u001b[0m\u001b[0;34m(\u001b[0m\u001b[0;34m)\u001b[0m\u001b[0;34m\u001b[0m\u001b[0;34m\u001b[0m\u001b[0m\n\u001b[0;32m----> 5\u001b[0;31m \u001b[0;32mfor\u001b[0m \u001b[0mline\u001b[0m \u001b[0;32min\u001b[0m \u001b[0mread_lines\u001b[0m\u001b[0;34m(\u001b[0m\u001b[0;34m\"example.txt\"\u001b[0m\u001b[0;34m)\u001b[0m\u001b[0;34m:\u001b[0m\u001b[0;34m\u001b[0m\u001b[0;34m\u001b[0m\u001b[0m\n\u001b[0m\u001b[1;32m      6\u001b[0m   \u001b[0mprint\u001b[0m\u001b[0;34m(\u001b[0m\u001b[0mline\u001b[0m\u001b[0;34m)\u001b[0m\u001b[0;34m\u001b[0m\u001b[0;34m\u001b[0m\u001b[0m\n",
            "\u001b[0;32m/tmp/ipython-input-1796991425.py\u001b[0m in \u001b[0;36mread_lines\u001b[0;34m(filename)\u001b[0m\n\u001b[1;32m      1\u001b[0m \u001b[0;32mdef\u001b[0m \u001b[0mread_lines\u001b[0m\u001b[0;34m(\u001b[0m\u001b[0mfilename\u001b[0m\u001b[0;34m)\u001b[0m\u001b[0;34m:\u001b[0m\u001b[0;34m\u001b[0m\u001b[0;34m\u001b[0m\u001b[0m\n\u001b[0;32m----> 2\u001b[0;31m   \u001b[0;32mwith\u001b[0m \u001b[0mopen\u001b[0m\u001b[0;34m(\u001b[0m\u001b[0mfilename\u001b[0m\u001b[0;34m,\u001b[0m\u001b[0;34m'r'\u001b[0m\u001b[0;34m)\u001b[0m \u001b[0;32mas\u001b[0m \u001b[0mfile\u001b[0m\u001b[0;34m:\u001b[0m\u001b[0;34m\u001b[0m\u001b[0;34m\u001b[0m\u001b[0m\n\u001b[0m\u001b[1;32m      3\u001b[0m     \u001b[0;32mfor\u001b[0m \u001b[0mline\u001b[0m \u001b[0;32min\u001b[0m \u001b[0mfile\u001b[0m\u001b[0;34m:\u001b[0m\u001b[0;34m\u001b[0m\u001b[0;34m\u001b[0m\u001b[0m\n\u001b[1;32m      4\u001b[0m       \u001b[0;32myield\u001b[0m \u001b[0mline\u001b[0m\u001b[0;34m.\u001b[0m\u001b[0mstrip\u001b[0m\u001b[0;34m(\u001b[0m\u001b[0;34m)\u001b[0m\u001b[0;34m\u001b[0m\u001b[0;34m\u001b[0m\u001b[0m\n\u001b[1;32m      5\u001b[0m \u001b[0;32mfor\u001b[0m \u001b[0mline\u001b[0m \u001b[0;32min\u001b[0m \u001b[0mread_lines\u001b[0m\u001b[0;34m(\u001b[0m\u001b[0;34m\"example.txt\"\u001b[0m\u001b[0;34m)\u001b[0m\u001b[0;34m:\u001b[0m\u001b[0;34m\u001b[0m\u001b[0;34m\u001b[0m\u001b[0m\n",
            "\u001b[0;31mFileNotFoundError\u001b[0m: [Errno 2] No such file or directory: 'example.txt'"
          ]
        }
      ]
    },
    {
      "cell_type": "markdown",
      "source": [
        "8. Use a lambda function in Python to sort a list of tuples based on the second element of each tuple."
      ],
      "metadata": {
        "id": "gSjmHFXEWUL-"
      }
    },
    {
      "cell_type": "code",
      "source": [
        "data = [(1,5),(2,3),(3,1),(4,2)]\n",
        "sorted_data = sorted(data,key=lambda x:x[1])\n",
        "print(sorted_data)"
      ],
      "metadata": {
        "colab": {
          "base_uri": "https://localhost:8080/"
        },
        "id": "zLV6j4NzWadw",
        "outputId": "8a8fc4ee-9323-4493-8aed-7886d057f37b"
      },
      "execution_count": null,
      "outputs": [
        {
          "output_type": "stream",
          "name": "stdout",
          "text": [
            "[(3, 1), (4, 2), (2, 3), (1, 5)]\n"
          ]
        }
      ]
    },
    {
      "cell_type": "markdown",
      "source": [
        "9. Write a Python program that uses `map()` to convert a list of temperatures from Celsius to Fahrenheit."
      ],
      "metadata": {
        "id": "Tu5TtqQ7W9Rs"
      }
    },
    {
      "cell_type": "code",
      "source": [
        "def c_to_f(celsius):\n",
        "  return (celsius * 9/5) + 32\n",
        "temperatures = [0,10,20,30,40]\n",
        "fahrenheit = list(map(c_to_f,temperatures))\n",
        "print(fahrenheit)"
      ],
      "metadata": {
        "colab": {
          "base_uri": "https://localhost:8080/"
        },
        "id": "MiNaUxQ0XCg2",
        "outputId": "9e778ffa-367f-4d46-cc9a-c6f0de0c3523"
      },
      "execution_count": null,
      "outputs": [
        {
          "output_type": "stream",
          "name": "stdout",
          "text": [
            "[32.0, 50.0, 68.0, 86.0, 104.0]\n"
          ]
        }
      ]
    },
    {
      "cell_type": "markdown",
      "source": [
        "10. Create a Python program that uses `filter()` to remove all the vowels from a given string."
      ],
      "metadata": {
        "id": "81SHXGkrXmDc"
      }
    },
    {
      "cell_type": "code",
      "source": [
        "def remove_vowels(text):\n",
        "  vowels = \"aeiouAEIOU\"\n",
        "  return \"\".join(filter(lambda x:x not in vowels,text))\n",
        "text = \"hello world\"\n",
        "filtered_text = remove_vowels(text)\n",
        "print(filtered_text)"
      ],
      "metadata": {
        "colab": {
          "base_uri": "https://localhost:8080/"
        },
        "id": "NXLUfQqNXsLJ",
        "outputId": "4ead7651-1aeb-4bf2-96f3-06f89a3436e6"
      },
      "execution_count": null,
      "outputs": [
        {
          "output_type": "stream",
          "name": "stdout",
          "text": [
            "hll wrld\n"
          ]
        }
      ]
    },
    {
      "cell_type": "markdown",
      "source": [
        "11. Imagine an accounting routine used in a book shop. It works on a list with sublists, which look like this:\n",
        "\n",
        "\n",
        "\n",
        "\n",
        "(data is on question paper)\n",
        "\n",
        "\n",
        "\n",
        "\n",
        "Write a Python program, which returns a list with 2-tuples. Each tuple consists of the order number and the\n",
        "product of the price per item and the quantity. The product should be increased by 10,- € if the value of the\n",
        "order is smaller than 100,00 €.\n",
        "\n",
        "Write a Python program using lambda and map"
      ],
      "metadata": {
        "id": "usOokG3rYS0b"
      }
    },
    {
      "cell_type": "code",
      "source": [
        "orders = [[34587, \"learning python, mark luts\", 4, 40.95],\n",
        "          [98762, \"programming python, mark lust\", 5, 56.80],\n",
        "          [77226, \"head first python, paul barry\", 3, 32.95],\n",
        "          [88112, \"einfuhrung in python3, bernd klrin\", 3, 24.99]\n",
        "]\n",
        "result = list(map(lambda order: (\n",
        "    order[0],\n",
        "    order[2] * order[3] + 10 if order[2] * order[3] < 100 else order[2] * order[3]\n",
        "), orders))\n",
        "print(result)"
      ],
      "metadata": {
        "colab": {
          "base_uri": "https://localhost:8080/"
        },
        "id": "eTFXm6yGZ4MB",
        "outputId": "8be921f6-8360-49a2-cb51-71bb599ba189"
      },
      "execution_count": null,
      "outputs": [
        {
          "output_type": "stream",
          "name": "stdout",
          "text": [
            "[(34587, 163.8), (98762, 284.0), (77226, 108.85000000000001), (88112, 84.97)]\n"
          ]
        }
      ]
    }
  ]
}